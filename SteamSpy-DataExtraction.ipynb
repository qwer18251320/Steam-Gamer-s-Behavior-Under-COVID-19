{
 "cells": [
  {
   "cell_type": "code",
   "execution_count": 1,
   "metadata": {},
   "outputs": [],
   "source": [
    "import json\n",
    "import os\n",
    "import numpy as np\n",
    "import pandas as pd\n",
    "import requests\n",
    "import re"
   ]
  },
  {
   "cell_type": "markdown",
   "metadata": {},
   "source": [
    "#### JSON data is a nested dictionary, only obtain variables we want"
   ]
  },
  {
   "cell_type": "code",
   "execution_count": null,
   "metadata": {},
   "outputs": [],
   "source": [
    "with open('sample/game-1.json') as f:\n",
    "  data1 = json.load(f)\n",
    "\n",
    "s = pd.Series(data1, name='game_data')\n",
    "s.index.name = 'AppID'\n",
    "\n",
    "#nested loop format -> x[i][j], x is entire data, i is dictionary of each game, j is value of each key in i dictionary\n",
    "\n",
    "game_list = []\n",
    "for i in range(0,len(s)): \n",
    "    test = {'app_ID': s[i]['appid'], 'name': s[i]['name'], 'developer' :s[i]['developer'],\n",
    "           'publisher': s[i]['publisher'], 'positive': s[i]['positive'], 'negative':s[i]['negative'],\n",
    "           'owners':s[i]['owners'], 'avg_forever': s[i]['average_forever'], 'avg_2wk':s[i]['average_2weeks'],\n",
    "           'median_forever':s[i]['median_forever'], 'median_2wk':s[i]['median_2weeks'], 'price':s[i]['price'],\n",
    "           'initial_price':s[i]['initialprice'], 'discount':s[i]['discount'], 'ccu':s[i]['ccu']}\n",
    "    game_list.append(test)"
   ]
  },
  {
   "cell_type": "markdown",
   "metadata": {},
   "source": [
    "Each page request has 1,000 games, we repeated the step above until page 8 (8,000 games total)\n"
   ]
  },
  {
   "cell_type": "markdown",
   "metadata": {},
   "source": [
    "After we obtained our sample set of 8,000 games, we conbined all dataframes into one "
   ]
  },
  {
   "cell_type": "code",
   "execution_count": null,
   "metadata": {},
   "outputs": [],
   "source": [
    "game_df = pd.DataFrame(game_list)\n",
    "game_df\n",
    "\n",
    "game_df.to_csv('game_sample_df.csv', index = False)"
   ]
  },
  {
   "cell_type": "markdown",
   "metadata": {},
   "source": [
    "#### Obtain Top 100 for November 11, 2020"
   ]
  },
  {
   "cell_type": "code",
   "execution_count": null,
   "metadata": {},
   "outputs": [],
   "source": [
    "with open('top100/top100-2week.json') as f:\n",
    "  top100 = json.load(f)\n",
    "\n",
    "t = pd.Series(top100, name='game_data')\n",
    "t.index.name = 'AppID'\n",
    "\n",
    "top100_list = []\n",
    "for i in range(0,len(t)): \n",
    "    games = {'app_ID': t[i]['appid'], 'name': t[i]['name'], 'developer' :t[i]['developer'],\n",
    "           'publisher': t[i]['publisher'], 'positive': t[i]['positive'], 'negative':t[i]['negative'],\n",
    "           'owners':t[i]['owners'], 'avg_forever': t[i]['average_forever'], 'avg_2wk':t[i]['average_2weeks'],\n",
    "           'median_forever':t[i]['median_forever'], 'median_2wk':t[i]['median_2weeks'], 'price':t[i]['price'],\n",
    "           'initial_price':t[i]['initialprice'], 'discount':t[i]['discount'], 'ccu':t[i]['ccu']}\n",
    "    top100_list.append(games)\n",
    "\n",
    "top100_df = pd.DataFrame(top100_list)\n",
    "top100_df\n",
    "\n",
    "top100_df.to_csv('top100_df.csv', index = False)"
   ]
  },
  {
   "cell_type": "markdown",
   "metadata": {},
   "source": [
    "#### Obtain genres, tags"
   ]
  },
  {
   "cell_type": "markdown",
   "metadata": {},
   "source": [
    "We downloaded each game dictionary separately and put it into one folder. Then, we wrote a forloop to iterate over all files within the folder and extracted variables we were interested in. One dataframe combining all games was created."
   ]
  },
  {
   "cell_type": "code",
   "execution_count": 36,
   "metadata": {
    "scrolled": false
   },
   "outputs": [
    {
     "name": "stdout",
     "output_type": "stream",
     "text": [
      "     app_ID                            name  \\\n",
      "0        10                  Counter-Strike   \n",
      "1     10180  Call of Duty: Modern Warfare 2   \n",
      "2   1046930                 Dota Underlords   \n",
      "3    105600                        Terraria   \n",
      "4    107410                          Arma 3   \n",
      "..      ...                             ...   \n",
      "95   755790                 Ring of Elysium   \n",
      "96       80  Counter-Strike: Condition Zero   \n",
      "97   813820                    Realm Royale   \n",
      "98     8930      Sid Meier's Civilization V   \n",
      "99   945360                        Among Us   \n",
      "\n",
      "                                          genre  \\\n",
      "0                                        Action   \n",
      "1                                        Action   \n",
      "2                Casual, Free to Play, Strategy   \n",
      "3                 Action, Adventure, Indie, RPG   \n",
      "4                  Action, Simulation, Strategy   \n",
      "..                                          ...   \n",
      "95  Action, Free to Play, Massively Multiplayer   \n",
      "96                                       Action   \n",
      "97           Action, Free to Play, Early Access   \n",
      "98                                     Strategy   \n",
      "99                                       Casual   \n",
      "\n",
      "                                                 tags  \n",
      "0   'Action', 'FPS', 'Multiplayer', 'Shooter', 'Cl...  \n",
      "1   'Action', 'FPS', 'Multiplayer', 'Shooter', 'Fi...  \n",
      "2   'Free to Play', 'Strategy', 'Casual', 'Auto Ba...  \n",
      "3   'Open World Survival Craft', 'Sandbox', 'Survi...  \n",
      "4   'Action', 'Multiplayer', 'Military', 'Shooter'...  \n",
      "..                                                ...  \n",
      "95  'Free to Play', 'Battle Royale', 'Shooter', 'M...  \n",
      "96  'Action', 'FPS', 'Shooter', 'Multiplayer', 'Fi...  \n",
      "97  'Battle Royale', 'Free to Play', 'Multiplayer'...  \n",
      "98  'Turn-Based Strategy', 'Strategy', 'Turn-Based...  \n",
      "99  'Multiplayer', 'Online Co-Op', 'Social Deducti...  \n",
      "\n",
      "[100 rows x 4 columns]\n"
     ]
    }
   ],
   "source": [
    "directory = os.fsencode('place/path/to/folder/here')\n",
    "os.chdir(directory)\n",
    "\n",
    "osldd = os.listdir(directory)\n",
    "dat = pd.DataFrame(columns=['app_ID','name', 'genre', 'tags'])\n",
    "for file in osldd:\n",
    "    with open(file) as f:\n",
    "        games = json.load(f)\n",
    "        tags = str(games['tags'].keys())\n",
    "        dat = dat.append({\n",
    "            'app_ID': games['appid'],\n",
    "            'name': games['name'],\n",
    "            'genre': games['genre'],\n",
    "            'tags': tags[11:-2]\n",
    "        }, ignore_index = True)\n",
    "print(dat)\n",
    "dat.to_csv('sample.csv', index = False)"
   ]
  }
 ],
 "metadata": {
  "kernelspec": {
   "display_name": "Python 3",
   "language": "python",
   "name": "python3"
  },
  "language_info": {
   "codemirror_mode": {
    "name": "ipython",
    "version": 3
   },
   "file_extension": ".py",
   "mimetype": "text/x-python",
   "name": "python",
   "nbconvert_exporter": "python",
   "pygments_lexer": "ipython3",
   "version": "3.8.3"
  }
 },
 "nbformat": 4,
 "nbformat_minor": 4
}
