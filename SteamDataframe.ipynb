{
 "cells": [
  {
   "cell_type": "code",
   "execution_count": 42,
   "metadata": {},
   "outputs": [],
   "source": [
    "import pandas as pd"
   ]
  },
  {
   "cell_type": "code",
   "execution_count": 43,
   "metadata": {},
   "outputs": [],
   "source": [
    "str1= '''730\n",
    "570\n",
    "578080\n",
    "945360\n",
    "252950\n",
    "271590\n",
    "359550\n",
    "440\n",
    "252490\n",
    "346110\n",
    "381210\n",
    "230410\n",
    "218620\n",
    "582010\n",
    "289070\n",
    "105600\n",
    "251570\n",
    "550\n",
    "306130\n",
    "236390\n",
    "304930\n",
    "4000\n",
    "238960\n",
    "322330\n",
    "394360\n",
    "377160\n",
    "39210\n",
    "594570\n",
    "8930\n",
    "281990\n",
    "386360\n",
    "582660\n",
    "294100\n",
    "438100\n",
    "489830\n",
    "292030\n",
    "413150\n",
    "435150\n",
    "291550\n",
    "242760\n",
    "255710\n",
    "275850\n",
    "239140\n",
    "236850\n",
    "444200\n",
    "787860\n",
    "440900\n",
    "227300\n",
    "761890\n",
    "601510'''"
   ]
  },
  {
   "cell_type": "code",
   "execution_count": 44,
   "metadata": {},
   "outputs": [],
   "source": [
    "applist = str1.split('\\n')"
   ]
  },
  {
   "cell_type": "code",
   "execution_count": 45,
   "metadata": {},
   "outputs": [
    {
     "data": {
      "text/plain": [
       "['730',\n",
       " '570',\n",
       " '578080',\n",
       " '945360',\n",
       " '252950',\n",
       " '271590',\n",
       " '359550',\n",
       " '440',\n",
       " '252490',\n",
       " '346110',\n",
       " '381210',\n",
       " '230410',\n",
       " '218620',\n",
       " '582010',\n",
       " '289070',\n",
       " '105600',\n",
       " '251570',\n",
       " '550',\n",
       " '306130',\n",
       " '236390',\n",
       " '304930',\n",
       " '4000',\n",
       " '238960',\n",
       " '322330',\n",
       " '394360',\n",
       " '377160',\n",
       " '39210',\n",
       " '594570',\n",
       " '8930',\n",
       " '281990',\n",
       " '386360',\n",
       " '582660',\n",
       " '294100',\n",
       " '438100',\n",
       " '489830',\n",
       " '292030',\n",
       " '413150',\n",
       " '435150',\n",
       " '291550',\n",
       " '242760',\n",
       " '255710',\n",
       " '275850',\n",
       " '239140',\n",
       " '236850',\n",
       " '444200',\n",
       " '787860',\n",
       " '440900',\n",
       " '227300',\n",
       " '761890',\n",
       " '601510']"
      ]
     },
     "execution_count": 45,
     "metadata": {},
     "output_type": "execute_result"
    }
   ],
   "source": [
    "applist"
   ]
  },
  {
   "cell_type": "code",
   "execution_count": 46,
   "metadata": {},
   "outputs": [
    {
     "data": {
      "text/html": [
       "<div>\n",
       "<style scoped>\n",
       "    .dataframe tbody tr th:only-of-type {\n",
       "        vertical-align: middle;\n",
       "    }\n",
       "\n",
       "    .dataframe tbody tr th {\n",
       "        vertical-align: top;\n",
       "    }\n",
       "\n",
       "    .dataframe thead th {\n",
       "        text-align: right;\n",
       "    }\n",
       "</style>\n",
       "<table border=\"1\" class=\"dataframe\">\n",
       "  <thead>\n",
       "    <tr style=\"text-align: right;\">\n",
       "      <th></th>\n",
       "      <th>DateTime</th>\n",
       "      <th>730</th>\n",
       "    </tr>\n",
       "  </thead>\n",
       "  <tbody>\n",
       "    <tr>\n",
       "      <th>0</th>\n",
       "      <td>2011-11-30 00:00:00</td>\n",
       "      <td>680.0</td>\n",
       "    </tr>\n",
       "    <tr>\n",
       "      <th>1</th>\n",
       "      <td>2011-12-01 00:00:00</td>\n",
       "      <td>NaN</td>\n",
       "    </tr>\n",
       "    <tr>\n",
       "      <th>2</th>\n",
       "      <td>2011-12-02 00:00:00</td>\n",
       "      <td>NaN</td>\n",
       "    </tr>\n",
       "    <tr>\n",
       "      <th>3</th>\n",
       "      <td>2011-12-03 00:00:00</td>\n",
       "      <td>NaN</td>\n",
       "    </tr>\n",
       "    <tr>\n",
       "      <th>4</th>\n",
       "      <td>2011-12-04 00:00:00</td>\n",
       "      <td>NaN</td>\n",
       "    </tr>\n",
       "    <tr>\n",
       "      <th>...</th>\n",
       "      <td>...</td>\n",
       "      <td>...</td>\n",
       "    </tr>\n",
       "    <tr>\n",
       "      <th>3263</th>\n",
       "      <td>2020-11-05 00:00:00</td>\n",
       "      <td>900839.0</td>\n",
       "    </tr>\n",
       "    <tr>\n",
       "      <th>3264</th>\n",
       "      <td>2020-11-06 00:00:00</td>\n",
       "      <td>966137.0</td>\n",
       "    </tr>\n",
       "    <tr>\n",
       "      <th>3265</th>\n",
       "      <td>2020-11-07 00:00:00</td>\n",
       "      <td>988989.0</td>\n",
       "    </tr>\n",
       "    <tr>\n",
       "      <th>3266</th>\n",
       "      <td>2020-11-08 00:00:00</td>\n",
       "      <td>972546.0</td>\n",
       "    </tr>\n",
       "    <tr>\n",
       "      <th>3267</th>\n",
       "      <td>2020-11-09 00:00:00</td>\n",
       "      <td>891145.0</td>\n",
       "    </tr>\n",
       "  </tbody>\n",
       "</table>\n",
       "<p>3268 rows × 2 columns</p>\n",
       "</div>"
      ],
      "text/plain": [
       "                 DateTime       730\n",
       "0     2011-11-30 00:00:00     680.0\n",
       "1     2011-12-01 00:00:00       NaN\n",
       "2     2011-12-02 00:00:00       NaN\n",
       "3     2011-12-03 00:00:00       NaN\n",
       "4     2011-12-04 00:00:00       NaN\n",
       "...                   ...       ...\n",
       "3263  2020-11-05 00:00:00  900839.0\n",
       "3264  2020-11-06 00:00:00  966137.0\n",
       "3265  2020-11-07 00:00:00  988989.0\n",
       "3266  2020-11-08 00:00:00  972546.0\n",
       "3267  2020-11-09 00:00:00  891145.0\n",
       "\n",
       "[3268 rows x 2 columns]"
      ]
     },
     "execution_count": 46,
     "metadata": {},
     "output_type": "execute_result"
    }
   ],
   "source": [
    "df = pd.read_csv(\"730.csv\")\n",
    "df = df[['DateTime', 'Players']]\n",
    "df = df.rename(columns={'Players': '730'})\n",
    "df"
   ]
  },
  {
   "cell_type": "code",
   "execution_count": 47,
   "metadata": {},
   "outputs": [],
   "source": [
    "for i in applist:\n",
    "    filename = i + '.csv'\n",
    "    temp = pd.read_csv(filename)\n",
    "    players = temp[['DateTime', 'Players']]\n",
    "    players = players.rename(columns={'Players': i})\n",
    "    df = pd.merge(df, players, how='outer')"
   ]
  },
  {
   "cell_type": "code",
   "execution_count": 48,
   "metadata": {},
   "outputs": [],
   "source": [
    "df = df.sort_values(by=['DateTime'])"
   ]
  },
  {
   "cell_type": "code",
   "execution_count": 50,
   "metadata": {},
   "outputs": [],
   "source": [
    "df = df.reset_index(drop=True)"
   ]
  },
  {
   "cell_type": "code",
   "execution_count": 51,
   "metadata": {},
   "outputs": [],
   "source": [
    "df.to_csv('SteamDataframe.csv')"
   ]
  },
  {
   "cell_type": "code",
   "execution_count": 55,
   "metadata": {
    "scrolled": true
   },
   "outputs": [],
   "source": [
    "df_final = df.iloc[5094:5773,:]"
   ]
  },
  {
   "cell_type": "code",
   "execution_count": 56,
   "metadata": {},
   "outputs": [],
   "source": [
    "df_final.to_csv('SteamDF_pruned.csv')"
   ]
  },
  {
   "cell_type": "code",
   "execution_count": null,
   "metadata": {},
   "outputs": [],
   "source": []
  }
 ],
 "metadata": {
  "kernelspec": {
   "display_name": "Python 3",
   "language": "python",
   "name": "python3"
  },
  "language_info": {
   "codemirror_mode": {
    "name": "ipython",
    "version": 3
   },
   "file_extension": ".py",
   "mimetype": "text/x-python",
   "name": "python",
   "nbconvert_exporter": "python",
   "pygments_lexer": "ipython3",
   "version": "3.8.3"
  }
 },
 "nbformat": 4,
 "nbformat_minor": 4
}
